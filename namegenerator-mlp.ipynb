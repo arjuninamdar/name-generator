{
 "cells": [
  {
   "cell_type": "code",
   "execution_count": 2,
   "id": "35d319a6-c641-4faa-ac9f-86b85fed9d3e",
   "metadata": {},
   "outputs": [],
   "source": [
    "import torch\n",
    "import torch.nn.functional as F"
   ]
  },
  {
   "cell_type": "code",
   "execution_count": 3,
   "id": "e8555276-cf21-43c8-8d1c-20bbdf6341cd",
   "metadata": {},
   "outputs": [],
   "source": [
    "names = open('names.txt', 'r').read().splitlines()\n",
    "N = torch.zeros((28, 28), dtype=torch.int32)\n",
    "chars = sorted(list(set(''.join(names))))\n",
    "stoi = {s:i+1 for i,s in enumerate(chars)}\n",
    "stoi['.'] = 0\n",
    "itos = {i:s for s,i in stoi.items()}"
   ]
  },
  {
   "cell_type": "markdown",
   "id": "2eded62d-e289-4867-a1e3-0bdce89eb445",
   "metadata": {},
   "source": [
    "# MLP Approach"
   ]
  },
  {
   "cell_type": "code",
   "execution_count": 4,
   "id": "6d38a442-62c8-44d0-be7f-46b2473cd64d",
   "metadata": {},
   "outputs": [
    {
     "name": "stdout",
     "output_type": "stream",
     "text": [
      "emma\n",
      "... ---> e\n",
      "..e ---> m\n",
      ".em ---> m\n",
      "emm ---> a\n",
      "mma ---> .\n",
      "olivia\n",
      "... ---> o\n",
      "..o ---> l\n",
      ".ol ---> i\n",
      "oli ---> v\n",
      "liv ---> i\n",
      "ivi ---> a\n",
      "via ---> .\n",
      "ava\n",
      "... ---> a\n",
      "..a ---> v\n",
      ".av ---> a\n",
      "ava ---> .\n",
      "isabella\n",
      "... ---> i\n",
      "..i ---> s\n",
      ".is ---> a\n",
      "isa ---> b\n",
      "sab ---> e\n",
      "abe ---> l\n",
      "bel ---> l\n",
      "ell ---> a\n",
      "lla ---> .\n",
      "sophia\n",
      "... ---> s\n",
      "..s ---> o\n",
      ".so ---> p\n",
      "sop ---> h\n",
      "oph ---> i\n",
      "phi ---> a\n",
      "hia ---> .\n"
     ]
    }
   ],
   "source": [
    "# dataset construction, with context of size 3\n",
    "context_len = 3\n",
    "X, Y = [], []\n",
    "for n in names[:5]:\n",
    "    print(n)\n",
    "    context = [0] * context_len\n",
    "    for ch in n + '.':\n",
    "        ix = stoi[ch]\n",
    "        X.append(context)\n",
    "        Y.append(ix)\n",
    "        print(''.join(itos[i] for i in context), '--->', itos[ix])\n",
    "        context = context[1:] + [ix]\n",
    "\n",
    "X = torch.tensor(X)\n",
    "Y = torch.tensor(Y)\n"
   ]
  },
  {
   "cell_type": "code",
   "execution_count": 5,
   "id": "d542bc12-4f84-4384-9307-e20206a286a0",
   "metadata": {},
   "outputs": [
    {
     "data": {
      "text/plain": [
       "tensor([[ 0,  0,  0],\n",
       "        [ 0,  0,  5],\n",
       "        [ 0,  5, 13],\n",
       "        [ 5, 13, 13],\n",
       "        [13, 13,  1],\n",
       "        [ 0,  0,  0],\n",
       "        [ 0,  0, 15],\n",
       "        [ 0, 15, 12],\n",
       "        [15, 12,  9],\n",
       "        [12,  9, 22],\n",
       "        [ 9, 22,  9],\n",
       "        [22,  9,  1],\n",
       "        [ 0,  0,  0],\n",
       "        [ 0,  0,  1],\n",
       "        [ 0,  1, 22],\n",
       "        [ 1, 22,  1],\n",
       "        [ 0,  0,  0],\n",
       "        [ 0,  0,  9],\n",
       "        [ 0,  9, 19],\n",
       "        [ 9, 19,  1],\n",
       "        [19,  1,  2],\n",
       "        [ 1,  2,  5],\n",
       "        [ 2,  5, 12],\n",
       "        [ 5, 12, 12],\n",
       "        [12, 12,  1],\n",
       "        [ 0,  0,  0],\n",
       "        [ 0,  0, 19],\n",
       "        [ 0, 19, 15],\n",
       "        [19, 15, 16],\n",
       "        [15, 16,  8],\n",
       "        [16,  8,  9],\n",
       "        [ 8,  9,  1]])"
      ]
     },
     "execution_count": 5,
     "metadata": {},
     "output_type": "execute_result"
    }
   ],
   "source": [
    "X"
   ]
  },
  {
   "cell_type": "code",
   "execution_count": 11,
   "id": "a622ab4b-285b-469b-bcc3-ef774f17f0c9",
   "metadata": {},
   "outputs": [
    {
     "data": {
      "text/plain": [
       "tensor([ 5, 13, 13,  1,  0, 15, 12,  9, 22,  9,  1,  0,  1, 22,  1,  0,  9, 19,\n",
       "         1,  2,  5, 12, 12,  1,  0, 19, 15, 16,  8,  9,  1,  0])"
      ]
     },
     "execution_count": 11,
     "metadata": {},
     "output_type": "execute_result"
    }
   ],
   "source": [
    "Y"
   ]
  },
  {
   "cell_type": "code",
   "execution_count": 20,
   "id": "10993d7c-08cd-45c8-8098-45c22c16a6c1",
   "metadata": {},
   "outputs": [
    {
     "data": {
      "text/plain": [
       "tensor([[-0.5887,  0.4945],\n",
       "        [-2.0278,  1.3148],\n",
       "        [-0.3658, -0.6009],\n",
       "        [-0.2866,  1.7440],\n",
       "        [-1.1767, -1.4192],\n",
       "        [-1.6286, -0.7328],\n",
       "        [ 0.2293,  0.6549],\n",
       "        [ 2.0387, -0.5061],\n",
       "        [-1.5280,  0.8373],\n",
       "        [ 0.1781, -1.4196],\n",
       "        [-2.1070,  0.0133],\n",
       "        [-0.3996, -1.5282],\n",
       "        [ 0.5617,  1.2385],\n",
       "        [ 1.1712, -1.5419],\n",
       "        [ 0.1296,  0.2144],\n",
       "        [ 0.3825, -1.1636],\n",
       "        [ 0.3638, -0.6752],\n",
       "        [ 1.0409, -0.9397],\n",
       "        [ 1.5670,  0.3636],\n",
       "        [-0.9647, -0.7984],\n",
       "        [ 0.1896, -0.2172],\n",
       "        [ 0.2486, -0.8564],\n",
       "        [-2.4571,  1.0108],\n",
       "        [ 1.3036,  0.9432],\n",
       "        [ 0.3056,  1.9148],\n",
       "        [-1.2301, -2.0694],\n",
       "        [-0.7226,  1.5854]])"
      ]
     },
     "execution_count": 20,
     "metadata": {},
     "output_type": "execute_result"
    }
   ],
   "source": [
    "# intial embeddings matrix\n",
    "C = torch.randn((27, 2))\n",
    "C"
   ]
  },
  {
   "cell_type": "code",
   "execution_count": 22,
   "id": "5f0a4613-e90d-49bc-9d1c-018dffc6b484",
   "metadata": {},
   "outputs": [],
   "source": [
    "emb = C[X]"
   ]
  },
  {
   "cell_type": "code",
   "execution_count": 30,
   "id": "f3d31882-779b-4f8b-a3c7-29a8ee313377",
   "metadata": {},
   "outputs": [
    {
     "data": {
      "text/plain": [
       "tensor([[-0.3869, -0.6669,  0.6267,  ...,  0.0145, -0.2291, -0.8201],\n",
       "        [-0.8557, -0.7851,  0.3018,  ..., -0.4488, -0.9920,  0.4833],\n",
       "        [ 0.9925, -0.7812, -0.9976,  ..., -0.9996,  0.9876, -0.8770],\n",
       "        ...,\n",
       "        [-0.9826,  0.9431,  0.9530,  ...,  0.9908, -1.0000,  0.9857],\n",
       "        [ 0.2330, -0.7422, -0.3136,  ..., -0.9998,  0.6492, -0.9407],\n",
       "        [-0.8003,  0.7822,  0.4169,  ...,  0.9982, -0.9999,  0.9936]])"
      ]
     },
     "execution_count": 30,
     "metadata": {},
     "output_type": "execute_result"
    }
   ],
   "source": [
    "# hidden-layer of neural network\n",
    "W1 = torch.randn((6, 100))\n",
    "b1 = torch.randn(100)\n",
    "h = torch.tanh(emb.view(-1, 6) @ W1 + b1)"
   ]
  },
  {
   "cell_type": "code",
   "execution_count": 31,
   "id": "c7a9b5db-b5d2-4ece-8b94-ab3b8782d28a",
   "metadata": {},
   "outputs": [],
   "source": [
    "W2 = torch.randn((100, 27))\n",
    "b2 = torch.randn(27)"
   ]
  },
  {
   "cell_type": "code",
   "execution_count": 32,
   "id": "89f5f59a-8d97-4301-9b04-1d721c250c17",
   "metadata": {},
   "outputs": [],
   "source": [
    "logits = h @ W2 + b2"
   ]
  },
  {
   "cell_type": "code",
   "execution_count": 33,
   "id": "5c0d9d10-77f6-4fa1-bb0d-143941e2564c",
   "metadata": {},
   "outputs": [],
   "source": [
    "counts = logits.exp()\n",
    "prob = counts / counts.sum(1, keepdims=True)"
   ]
  },
  {
   "cell_type": "code",
   "execution_count": 36,
   "id": "a390da4f-18c0-47df-9494-bc8839eb06ee",
   "metadata": {},
   "outputs": [
    {
     "data": {
      "text/plain": [
       "tensor([9.6748e-04, 8.4382e-05, 6.8789e-06, 8.5891e-13, 1.3611e-06, 4.9616e-09,\n",
       "        3.6055e-09, 1.4730e-07, 7.4189e-04, 9.1742e-09, 4.8464e-09, 4.7243e-07,\n",
       "        1.1881e-03, 6.2546e-03, 2.9162e-04, 8.9647e-01, 7.2006e-09, 3.5912e-11,\n",
       "        4.4289e-06, 1.0377e-14, 1.2244e-06, 1.4902e-06, 8.6670e-03, 6.4300e-08,\n",
       "        1.9657e-04, 2.4080e-05, 1.1965e-09, 2.4250e-14, 5.4624e-11, 1.0121e-10,\n",
       "        5.5876e-05, 5.2914e-07])"
      ]
     },
     "execution_count": 36,
     "metadata": {},
     "output_type": "execute_result"
    }
   ],
   "source": [
    "prob[torch.arange(32), Y]"
   ]
  }
 ],
 "metadata": {
  "kernelspec": {
   "display_name": "Python 3 (ipykernel)",
   "language": "python",
   "name": "python3"
  },
  "language_info": {
   "codemirror_mode": {
    "name": "ipython",
    "version": 3
   },
   "file_extension": ".py",
   "mimetype": "text/x-python",
   "name": "python",
   "nbconvert_exporter": "python",
   "pygments_lexer": "ipython3",
   "version": "3.11.8"
  }
 },
 "nbformat": 4,
 "nbformat_minor": 5
}
