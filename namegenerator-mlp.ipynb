{
 "cells": [
  {
   "cell_type": "code",
   "execution_count": null,
   "id": "35d319a6-c641-4faa-ac9f-86b85fed9d3e",
   "metadata": {},
   "outputs": [],
   "source": [
    "import torch\n",
    "import torch.nn.functional as F\n",
    "import random"
   ]
  },
  {
   "cell_type": "code",
   "execution_count": null,
   "id": "e8555276-cf21-43c8-8d1c-20bbdf6341cd",
   "metadata": {},
   "outputs": [],
   "source": [
    "names = open('names.txt', 'r').read().splitlines()\n",
    "N = torch.zeros((28, 28), dtype=torch.int32)\n",
    "chars = sorted(list(set(''.join(names))))\n",
    "stoi = {s:i+1 for i,s in enumerate(chars)}\n",
    "stoi['.'] = 0\n",
    "itos = {i:s for s,i in stoi.items()}\n",
    "\n",
    "GEN_VALUE = 2147483647\n",
    "CONTEXT_LEN = 3"
   ]
  },
  {
   "cell_type": "markdown",
   "id": "2eded62d-e289-4867-a1e3-0bdce89eb445",
   "metadata": {},
   "source": [
    "# MLP Approach"
   ]
  },
  {
   "cell_type": "code",
   "execution_count": null,
   "id": "6d38a442-62c8-44d0-be7f-46b2473cd64d",
   "metadata": {},
   "outputs": [],
   "source": [
    "def build_dataset(names):\n",
    "    X, Y = [], []\n",
    "    i = 0\n",
    "    for n in names:\n",
    "        context = [0] * CONTEXT_LEN\n",
    "        for ch in n + '.':\n",
    "            ix = stoi[ch]\n",
    "            X.append(context)\n",
    "            Y.append(ix)\n",
    "            context = context[1:] + [ix]\n",
    "    \n",
    "    X = torch.tensor(X)\n",
    "    Y = torch.tensor(Y)\n",
    "    return X, Y"
   ]
  },
  {
   "cell_type": "code",
   "execution_count": null,
   "id": "d1e3348c-4335-40f4-9268-20bbb1adcd63",
   "metadata": {},
   "outputs": [],
   "source": [
    "random.seed(42)\n",
    "random.shuffle(names)\n",
    "n1 = int(0.8*len(names))\n",
    "n2 = int(0.9*len(names))\n",
    "\n",
    "# construct data split\n",
    "Xtr, Ytr = build_dataset(names[:n1])\n",
    "Xdev, Ydev = build_dataset(names[n1:n2])\n",
    "Xte, Yte = build_dataset(names[n2:])"
   ]
  },
  {
   "cell_type": "code",
   "execution_count": null,
   "id": "0830a1fa-fe0c-4355-b9fd-fb357823b2db",
   "metadata": {},
   "outputs": [],
   "source": [
    "g = torch.Generator().manual_seed(GEN_VALUE)\n",
    "C = torch.randn((27, 10), generator=g)\n",
    "W1 = torch.randn((30, 200), generator=g)\n",
    "b1 = torch.randn(200, generator=g)\n",
    "W2 = torch.randn((200, 27), generator=g)\n",
    "b2 = torch.randn(27, generator=g)\n",
    "params = [C, W1, b1, W2, b2]"
   ]
  },
  {
   "cell_type": "code",
   "execution_count": null,
   "id": "bacf527d-a935-44e7-b9ea-1e68a2151649",
   "metadata": {},
   "outputs": [],
   "source": []
  },
  {
   "cell_type": "code",
   "execution_count": null,
   "id": "3b759b96-4f03-47a5-af5b-cd2140c01fd0",
   "metadata": {},
   "outputs": [],
   "source": [
    "for p in params:\n",
    "    p.requires_grad = True"
   ]
  },
  {
   "cell_type": "code",
   "execution_count": null,
   "id": "56472c11-46a6-46de-9ec1-dd4ab752aa08",
   "metadata": {},
   "outputs": [],
   "source": [
    "for i in range(50000):\n",
    "    # used to randomly sample when training the dataset\n",
    "    ind = torch.randint(0, Xtr.shape[0], (32,))\n",
    "    \n",
    "    # this is the forward pass\n",
    "    emb = C[Xtr[ind]]\n",
    "    h = torch.tanh(emb.view(-1, 30) @ W1 + b1)\n",
    "    logits = h @ W2 + b2\n",
    "    loss = F.cross_entropy(logits, Ytr[ind])\n",
    "    \n",
    "    # the following is the backward pass\n",
    "    for p in params:\n",
    "        p.grad = None\n",
    "    \n",
    "    loss.backward()\n",
    "\n",
    "    lr = 0.1 if i < 100000 else 0.01\n",
    "    for p in params:\n",
    "        p.data += -lr * p.grad\n",
    "\n",
    "print(\"Finished!\")"
   ]
  },
  {
   "cell_type": "code",
   "execution_count": null,
   "id": "9160b926-0cf4-4c16-93ef-ecf824ee99ff",
   "metadata": {},
   "outputs": [],
   "source": [
    "# find training loss\n",
    "emb = C[Xtr]\n",
    "h = torch.tanh(emb.view(-1, 30) @ W1 + b1)\n",
    "logits = h @ W2 + b2\n",
    "loss = F.cross_entropy(logits, Ytr)\n",
    "loss"
   ]
  },
  {
   "cell_type": "code",
   "execution_count": null,
   "id": "81f46a83-fe55-4d81-ad37-1e6e23a824e7",
   "metadata": {},
   "outputs": [],
   "source": [
    "# find loss on dev/validation set\n",
    "emb = C[Xdev]\n",
    "h = torch.tanh(emb.view(-1, 30) @ W1 + b1)\n",
    "logits = h @ W2 + b2\n",
    "loss = F.cross_entropy(logits, Ydev)\n",
    "loss"
   ]
  },
  {
   "cell_type": "code",
   "execution_count": null,
   "id": "eca4d98b-1556-459e-8682-b42681400a20",
   "metadata": {},
   "outputs": [],
   "source": [
    "# find loss on test set\n",
    "emb = C[Xte]\n",
    "h = torch.tanh(emb.view(-1, 30) @ W1 + b1)\n",
    "logits = h @ W2 + b2\n",
    "loss = F.cross_entropy(logits, Yte)\n",
    "loss"
   ]
  },
  {
   "cell_type": "code",
   "execution_count": null,
   "id": "aeed2c20-f391-4c00-bfbc-35149ff67a36",
   "metadata": {},
   "outputs": [],
   "source": [
    "sample_g = torch.Generator().manual_seed(GEN_VALUE + 1)\n",
    "\n",
    "for _ in range(100):\n",
    "    \n",
    "    out = []\n",
    "    context = [0] * CONTEXT_LEN\n",
    "    while True:\n",
    "      emb = C[torch.tensor([context])]\n",
    "      h = torch.tanh(emb.view(1, -1) @ W1 + b1)\n",
    "      logits = h @ W2 + b2\n",
    "      probs = F.softmax(logits, dim=1)\n",
    "      ix = torch.multinomial(probs, num_samples=1, generator=sample_g).item()\n",
    "      context = context[1:] + [ix]\n",
    "      out.append(ix)\n",
    "      if ix == 0:\n",
    "        break\n",
    "    \n",
    "    print(''.join(itos[i] for i in out))"
   ]
  }
 ],
 "metadata": {
  "kernelspec": {
   "display_name": "Python 3 (ipykernel)",
   "language": "python",
   "name": "python3"
  },
  "language_info": {
   "codemirror_mode": {
    "name": "ipython",
    "version": 3
   },
   "file_extension": ".py",
   "mimetype": "text/x-python",
   "name": "python",
   "nbconvert_exporter": "python",
   "pygments_lexer": "ipython3",
   "version": "3.11.8"
  }
 },
 "nbformat": 4,
 "nbformat_minor": 5
}
